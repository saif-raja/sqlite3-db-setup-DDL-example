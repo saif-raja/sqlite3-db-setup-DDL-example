{
 "cells": [
  {
   "cell_type": "code",
   "execution_count": 6,
   "metadata": {},
   "outputs": [],
   "source": [
    "import pandas as pd\n",
    "\n",
    "# Load the data from each CSV to examine their contents and structure\n",
    "data_paths = {\n",
    "    \"all_series_ep_average\": \"raw_csv_data/all-series-ep-average.csv\",\n",
    "    \"top_seasons_full\": \"raw_csv_data/top-seasons-full.csv\",\n",
    "    \"all_episode_ratings\": \"raw_csv_data/all-episode-ratings.csv\"\n",
    "}\n",
    "\n",
    "data_frames = {name: pd.read_csv(path) for name, path in data_paths.items()}"
   ]
  },
  {
   "cell_type": "code",
   "execution_count": 7,
   "metadata": {},
   "outputs": [
    {
     "data": {
      "text/plain": [
       "{'all_series_ep_average':         Code            Title  Rating Rating Count  Rank  Rating Mean\n",
       " 0  tt7366338        Chernobyl     9.1        5,431    12     9.300000\n",
       " 1  tt9253866       Our Planet     9.3        8,356     6     9.262500\n",
       " 2  tt2560140  Attack on Titan     8.7      109,643    66     9.258824\n",
       " 3  tt8595766  Yeh Meri Family     8.5       15,026   159     9.200000\n",
       " 4  tt2395695           Cosmos     9.2       94,934     9     9.076923,\n",
       " 'top_seasons_full':          Key            Title  Season  Rating Mean  Number of Episodes\n",
       " 0  tt3647998            Taboo       2     9.500000                   1\n",
       " 1  tt2560140  Attack on Titan       2     9.408333                  12\n",
       " 2  tt0118273        Brass Eye       2     9.400000                   1\n",
       " 3  tt4508902    One Punch Man       1     9.350000                  12\n",
       " 4  tt0944947  Game of Thrones       4     9.330000                  10,\n",
       " 'all_episode_ratings':    Unnamed: 0  Season  Episode  Rating       Code\n",
       " 0           0       1        1     8.0  tt5491994\n",
       " 1           1       1        2     7.3  tt5491994\n",
       " 2           2       1        3     6.9  tt5491994\n",
       " 3           3       1        4     6.8  tt5491994\n",
       " 4           4       1        5     6.8  tt5491994}"
      ]
     },
     "execution_count": 7,
     "metadata": {},
     "output_type": "execute_result"
    }
   ],
   "source": [
    "\n",
    "{key: df.head() for key, df in data_frames.items()}\n"
   ]
  },
  {
   "cell_type": "code",
   "execution_count": 8,
   "metadata": {},
   "outputs": [
    {
     "name": "stdout",
     "output_type": "stream",
     "text": [
      "<class 'pandas.core.frame.DataFrame'>\n",
      "RangeIndex: 250 entries, 0 to 249\n",
      "Data columns (total 6 columns):\n",
      " #   Column        Non-Null Count  Dtype  \n",
      "---  ------        --------------  -----  \n",
      " 0   Code          250 non-null    object \n",
      " 1   Title         250 non-null    object \n",
      " 2   Rating        250 non-null    float64\n",
      " 3   Rating Count  250 non-null    object \n",
      " 4   Rank          250 non-null    int64  \n",
      " 5   Rating Mean   249 non-null    float64\n",
      "dtypes: float64(2), int64(1), object(3)\n",
      "memory usage: 11.8+ KB\n",
      "<class 'pandas.core.frame.DataFrame'>\n",
      "RangeIndex: 976 entries, 0 to 975\n",
      "Data columns (total 5 columns):\n",
      " #   Column              Non-Null Count  Dtype  \n",
      "---  ------              --------------  -----  \n",
      " 0   Key                 976 non-null    object \n",
      " 1   Title               976 non-null    object \n",
      " 2   Season              976 non-null    int64  \n",
      " 3   Rating Mean         976 non-null    float64\n",
      " 4   Number of Episodes  976 non-null    int64  \n",
      "dtypes: float64(1), int64(2), object(2)\n",
      "memory usage: 38.2+ KB\n",
      "<class 'pandas.core.frame.DataFrame'>\n",
      "RangeIndex: 19914 entries, 0 to 19913\n",
      "Data columns (total 5 columns):\n",
      " #   Column      Non-Null Count  Dtype  \n",
      "---  ------      --------------  -----  \n",
      " 0   Unnamed: 0  19914 non-null  int64  \n",
      " 1   Season      19914 non-null  int64  \n",
      " 2   Episode     19914 non-null  int64  \n",
      " 3   Rating      19914 non-null  float64\n",
      " 4   Code        19914 non-null  object \n",
      "dtypes: float64(1), int64(3), object(1)\n",
      "memory usage: 778.0+ KB\n"
     ]
    },
    {
     "data": {
      "text/plain": [
       "{'all_series_ep_average': None,\n",
       " 'top_seasons_full': None,\n",
       " 'all_episode_ratings': None}"
      ]
     },
     "execution_count": 8,
     "metadata": {},
     "output_type": "execute_result"
    }
   ],
   "source": [
    "\n",
    "{key: df.info() for key, df in data_frames.items()}\n"
   ]
  },
  {
   "cell_type": "code",
   "execution_count": 9,
   "metadata": {},
   "outputs": [
    {
     "data": {
      "text/plain": [
       "{'all_series_ep_average':            Rating        Rank  Rating Mean\n",
       " count  250.000000  250.000000   249.000000\n",
       " mean     8.624800  125.500000     8.261322\n",
       " std      0.231862   72.312977     0.592163\n",
       " min      8.300000    1.000000     5.466667\n",
       " 25%      8.500000   63.250000     8.060135\n",
       " 50%      8.600000  125.500000     8.403333\n",
       " 75%      8.700000  187.750000     8.629630\n",
       " max      9.500000  250.000000     9.300000,\n",
       " 'top_seasons_full':            Season  Rating Mean  Number of Episodes\n",
       " count  976.000000   976.000000          976.000000\n",
       " mean     4.848361     8.091531           20.403689\n",
       " std      5.059599     0.725686           38.547459\n",
       " min      1.000000     2.216667            1.000000\n",
       " 25%      1.000000     7.758636            9.000000\n",
       " 50%      3.000000     8.247077           13.000000\n",
       " 75%      6.000000     8.575481           22.000000\n",
       " max     30.000000     9.500000          883.000000,\n",
       " 'all_episode_ratings':          Unnamed: 0        Season       Episode        Rating\n",
       " count  19914.000000  19914.000000  19914.000000  19914.000000\n",
       " mean     446.666516      6.008938     47.077232      7.720563\n",
       " std      797.057444      6.007572    107.218654      0.960648\n",
       " min        0.000000      1.000000      1.000000      2.100000\n",
       " 25%       27.000000      2.000000      6.000000      7.200000\n",
       " 50%       90.000000      4.000000     13.000000      7.800000\n",
       " 75%      418.000000      8.000000     40.000000      8.400000\n",
       " max     3591.000000     30.000000    883.000000      9.900000}"
      ]
     },
     "execution_count": 9,
     "metadata": {},
     "output_type": "execute_result"
    }
   ],
   "source": [
    "\n",
    "{key: df.describe() for key, df in data_frames.items()}\n"
   ]
  },
  {
   "cell_type": "code",
   "execution_count": null,
   "metadata": {},
   "outputs": [],
   "source": []
  }
 ],
 "metadata": {
  "kernelspec": {
   "display_name": "base",
   "language": "python",
   "name": "python3"
  },
  "language_info": {
   "codemirror_mode": {
    "name": "ipython",
    "version": 3
   },
   "file_extension": ".py",
   "mimetype": "text/x-python",
   "name": "python",
   "nbconvert_exporter": "python",
   "pygments_lexer": "ipython3",
   "version": "3.8.8"
  }
 },
 "nbformat": 4,
 "nbformat_minor": 2
}
